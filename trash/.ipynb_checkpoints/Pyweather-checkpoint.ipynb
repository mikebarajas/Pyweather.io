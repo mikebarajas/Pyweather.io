{
 "cells": [
  {
   "cell_type": "code",
   "execution_count": 1,
   "metadata": {
    "collapsed": true
   },
   "outputs": [],
   "source": [
    "# Dependencies\n",
    "import matplotlib.pyplot as plt\n",
    "import requests as req\n",
    "import pandas as pd\n",
    "import json\n",
    "import random\n",
    "from citipy import citipy\n",
    "import openweathermapy.core as ow\n",
    "from config import api_key\n",
    "from urllib.error import HTTPError"
   ]
  },
  {
   "cell_type": "code",
   "execution_count": 2,
   "metadata": {},
   "outputs": [
    {
     "ename": "NameError",
     "evalue": "name 'api_key' is not defined",
     "output_type": "error",
     "traceback": [
      "\u001b[1;31m---------------------------------------------------------------------------\u001b[0m",
      "\u001b[1;31mNameError\u001b[0m                                 Traceback (most recent call last)",
      "\u001b[1;32m<ipython-input-2-51dc1f7149c1>\u001b[0m in \u001b[0;36m<module>\u001b[1;34m()\u001b[0m\n\u001b[0;32m      1\u001b[0m \u001b[1;31m# Create settings dictionary with information we're interested in\u001b[0m\u001b[1;33m\u001b[0m\u001b[1;33m\u001b[0m\u001b[0m\n\u001b[1;32m----> 2\u001b[1;33m \u001b[0msettings\u001b[0m \u001b[1;33m=\u001b[0m \u001b[1;33m{\u001b[0m\u001b[1;34m\"units\"\u001b[0m\u001b[1;33m:\u001b[0m \u001b[1;34m\"imperial\"\u001b[0m\u001b[1;33m,\u001b[0m \u001b[1;34m\"appid\"\u001b[0m\u001b[1;33m:\u001b[0m \u001b[0mapi_key\u001b[0m\u001b[1;33m}\u001b[0m\u001b[1;33m\u001b[0m\u001b[0m\n\u001b[0m\u001b[0;32m      3\u001b[0m \u001b[0mweather_data\u001b[0m \u001b[1;33m=\u001b[0m \u001b[1;33m[\u001b[0m\u001b[1;33m]\u001b[0m\u001b[1;33m\u001b[0m\u001b[0m\n",
      "\u001b[1;31mNameError\u001b[0m: name 'api_key' is not defined"
     ]
    }
   ],
   "source": [
    "# Create settings dictionary with information we're interested in\n",
    "settings = {\"units\": \"imperial\", \"appid\": api_key}\n",
    "weather_data = []"
   ]
  },
  {
   "cell_type": "code",
   "execution_count": null,
   "metadata": {
    "collapsed": true
   },
   "outputs": [],
   "source": [
    "# Pull 500 Randomly Generated City Coordinates\n",
    "lat = []\n",
    "lon = []\n",
    "cities = set([])\n",
    "\n",
    "# While loop will populate cities set until it reaches 500 non repeating cities\n",
    "while len(cities) < 1000: #Use this when you are finally ready to run program for 500 cities  \n",
    "    lati = (random.randrange(-90,90,1))\n",
    "    long = (random.randrange(-180,180,1))\n",
    "    city = citipy.nearest_city(lati,long)\n",
    "    city = city.city_name\n",
    "    lat.append(lat)\n",
    "    lon.append(long)\n",
    "    cities.add(city)\n",
    "\n",
    "cities = list(cities)"
   ]
  },
  {
   "cell_type": "code",
   "execution_count": null,
   "metadata": {},
   "outputs": [],
   "source": [
    "# Create a list to store JSONs of the weather data results and start a counter to run through randomly generated cities\n",
    "weather_data = []\n",
    "counter = []\n",
    "count = 0\n",
    "\n",
    "# Run a for loop that runs through the list of cities\n",
    "for city in cities:\n",
    "    if count < 500:\n",
    "        try:\n",
    "            data = ow.get_current(city, **settings)\n",
    "            weather_data.append(data)\n",
    "            count = count + 1\n",
    "            counter.append(count)\n",
    "        except Exception as e:\n",
    "            print(city, \": not found  \", e)\n",
    "            continue\n",
    "            \n",
    "            \n",
    "# Generate a data frame from 500 callable cities    \n",
    "summary = [\"name\", \"dt\",\"sys.country\",\"coord.lat\", \"coord.lon\", \"main.temp_max\", \"main.humidity\", \"clouds.all\", \"wind.speed\"]\n",
    "data = [response(*summary) for response in weather_data]\n",
    "column_names = [\"City\", \"Time\", \"Country\", \"Latitude\", \"Longitude\", \"Temperature\", \"Humidity\", \"Cloud Coverage\", \"Wind Speed\"]\n",
    "weather_data = pd.DataFrame(data, index = counter, columns=column_names)\n"
   ]
  },
  {
   "cell_type": "code",
   "execution_count": null,
   "metadata": {},
   "outputs": [],
   "source": [
    "# Generate a print out list of cities\n",
    "cities_list = weather_data\n",
    "cities_list.to_csv(\"Cities_Output.csv\")"
   ]
  },
  {
   "cell_type": "code",
   "execution_count": null,
   "metadata": {},
   "outputs": [],
   "source": [
    "\n",
    "# Build a scatter plot for lat v. temp\n",
    "plt.scatter(weather_data[\"Latitude\"], weather_data[\"Temperature\"], marker=\"o\")\n",
    "\n",
    "# Incorporate the other graph properties\n",
    "plt.title(\"City Latitude vs. Max Temperature\")\n",
    "plt.ylabel(\"Temperature(F)\")\n",
    "plt.xlabel(\"Latitude\")\n",
    "plt.grid(True)\n",
    "\n",
    "# Save the figure\n",
    "plt.savefig(\"LatvMaxTemp.png\")\n",
    "\n",
    "# Show plot\n",
    "plt.show()"
   ]
  },
  {
   "cell_type": "code",
   "execution_count": null,
   "metadata": {},
   "outputs": [],
   "source": [
    "# Build a scatter plot for lat v. humidity\n",
    "plt.scatter(weather_data[\"Latitude\"], weather_data[\"Humidity\"], marker=\"o\")\n",
    "\n",
    "# Incorporate the other graph properties\n",
    "plt.title(\"City Latitude v. Humidity\")\n",
    "plt.ylabel(\"Humidity (%)\")\n",
    "plt.xlabel(\"Latitude\")\n",
    "plt.grid(True)\n",
    "\n",
    "# Save the figure\n",
    "plt.savefig(\"LatvHum.png\")\n",
    "\n",
    "# Show plot\n",
    "plt.show()"
   ]
  },
  {
   "cell_type": "code",
   "execution_count": null,
   "metadata": {},
   "outputs": [],
   "source": [
    "# Build a scatter plot for temp v. cloudiness\n",
    "plt.scatter(weather_data[\"Latitude\"], weather_data[\"Cloud Coverage\"], marker=\"o\")\n",
    "\n",
    "# Incorporate the other graph properties\n",
    "plt.title(\"City Laitude v. Cloudiness\")\n",
    "plt.ylabel(\"Cloudiness (%)\")\n",
    "plt.xlabel(\"Latitude\")\n",
    "plt.grid(True)\n",
    "\n",
    "# Save the figure\n",
    "plt.savefig(\"LatvCloudiness.png\")\n",
    "\n",
    "# Show plot\n",
    "plt.show()"
   ]
  },
  {
   "cell_type": "code",
   "execution_count": null,
   "metadata": {},
   "outputs": [],
   "source": [
    "# Build a scatter plot for temp v. wind speed\n",
    "plt.scatter(weather_data[\"Latitude\"], weather_data[\"Wind Speed\"], marker=\"o\")\n",
    "\n",
    "# Incorporate the other graph properties\n",
    "plt.title(\"City Latitude v. Wind Speed\")\n",
    "plt.ylabel(\"Wind Speed (mph)\")\n",
    "plt.xlabel(\"Latitude\")\n",
    "plt.grid(True)\n",
    "\n",
    "# Save the figure\n",
    "plt.savefig(\"LatvWind.png\")\n",
    "\n",
    "# Show plot\n",
    "plt.show()"
   ]
  },
  {
   "cell_type": "code",
   "execution_count": null,
   "metadata": {
    "collapsed": true
   },
   "outputs": [],
   "source": []
  },
  {
   "cell_type": "code",
   "execution_count": null,
   "metadata": {
    "collapsed": true
   },
   "outputs": [],
   "source": []
  }
 ],
 "metadata": {
  "kernelspec": {
   "display_name": "Python 3",
   "language": "python",
   "name": "python3"
  },
  "language_info": {
   "codemirror_mode": {
    "name": "ipython",
    "version": 3
   },
   "file_extension": ".py",
   "mimetype": "text/x-python",
   "name": "python",
   "nbconvert_exporter": "python",
   "pygments_lexer": "ipython3",
   "version": "3.6.2"
  }
 },
 "nbformat": 4,
 "nbformat_minor": 2
}
